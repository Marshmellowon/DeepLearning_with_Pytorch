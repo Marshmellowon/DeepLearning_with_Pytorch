{
  "nbformat": 4,
  "nbformat_minor": 0,
  "metadata": {
    "colab": {
      "name": "CNN.ipynb",
      "provenance": [],
      "collapsed_sections": [],
      "authorship_tag": "ABX9TyMnOVE2b8e1+rEvZEQqw+6z",
      "include_colab_link": true
    },
    "kernelspec": {
      "name": "python3",
      "display_name": "Python 3"
    }
  },
  "cells": [
    {
      "cell_type": "markdown",
      "metadata": {
        "id": "view-in-github",
        "colab_type": "text"
      },
      "source": [
        "<a href=\"https://colab.research.google.com/github/Marshmellowon/DeepLearning_with_Pytorch/blob/master/CNN.ipynb\" target=\"_parent\"><img src=\"https://colab.research.google.com/assets/colab-badge.svg\" alt=\"Open In Colab\"/></a>"
      ]
    },
    {
      "cell_type": "markdown",
      "metadata": {
        "id": "tfp3ep7OxkEt",
        "colab_type": "text"
      },
      "source": [
        "# Convolution\n",
        "- 이미지 위에서 stride 값 만큼 filter(kernel)를 이동시키면서 겹쳐지는 부분의 각 원소의 값을 곱해서 모두 더한 값을 출력으로 하는 연산이다.\n",
        "\n",
        "### stride\n",
        "- filter를 한번에 얼마나 이동할 것인가\n",
        "\n",
        "### padding\n",
        "- zero-padding\n",
        "- 패딩이 1이면 0이 들어간 띠가 둘러진다. \n",
        "\n",
        "```python\n",
        "# 입력채널 1, 출력 채널 1, 커널 크기 3*3\n",
        "# 필터\n",
        "conv = nn.Conc2d(1,1,3)\n",
        "```\n",
        " \n",
        " ### 입력의 형태\n",
        " - input: torch.Tensor\n",
        " - input shape: (N * C * H * W)\n",
        "### output의 크기\n",
        "\n",
        "- outputsize = (input size - filter size + (2 * padding)) / stride + 1\n",
        "\n",
        " "
      ]
    },
    {
      "cell_type": "code",
      "metadata": {
        "id": "w8V9tEl5WV9A",
        "colab_type": "code",
        "colab": {
          "base_uri": "https://localhost:8080/",
          "height": 35
        },
        "outputId": "85cb2fdd-e23e-42e2-fb74-dc7f76a31b6d"
      },
      "source": [
        "import torch\n",
        "import torch.nn as nn\n",
        "\n",
        "conv = nn.Conv2d(1,1,11,stride=4, padding=0) # Conv2d(input chanel, output chanel, filter size, stride, padding)\n",
        "input = torch.Tensor(1,1,227,227)\n",
        "out = conv(input)\n",
        "out.shape"
      ],
      "execution_count": 18,
      "outputs": [
        {
          "output_type": "execute_result",
          "data": {
            "text/plain": [
              "torch.Size([1, 1, 55, 55])"
            ]
          },
          "metadata": {
            "tags": []
          },
          "execution_count": 18
        }
      ]
    },
    {
      "cell_type": "markdown",
      "metadata": {
        "id": "LlTGitTcXvx-",
        "colab_type": "text"
      },
      "source": [
        "# pooling\n",
        "- 이미지 사이즈 줄이기\n",
        "- fully connected 연산을 대체하기 위해 average pooling을 사용\n",
        "\n",
        "## max pooling\n",
        "- 2x2에서 가장 큰 수를 뽑아냄\n",
        "```python\n",
        "torch.nn.MaxPool2d()\n",
        "```\n",
        "\n",
        "## average pooling\n",
        "- 2x2 안에서 평균을 뽑아냄"
      ]
    },
    {
      "cell_type": "code",
      "metadata": {
        "id": "5Y2NkfVbYXXI",
        "colab_type": "code",
        "colab": {
          "base_uri": "https://localhost:8080/",
          "height": 71
        },
        "outputId": "54cedf1c-3dc4-451a-fd41-f9c4c224ab09"
      },
      "source": [
        "input = torch.Tensor(1,1,28,28)\n",
        "conv = nn.Conv2d(1,5,5) # input 1, ouput 5, filter size 5\n",
        "pool = nn.MaxPool2d(2) # maxpool은 출력이 반토막이됨.\n",
        "out = conv(input)\n",
        "out2 = pool(out)\n",
        "\n",
        "print(input.size())\n",
        "print(out.size())\n",
        "print(out2.size())"
      ],
      "execution_count": 19,
      "outputs": [
        {
          "output_type": "stream",
          "text": [
            "torch.Size([1, 1, 28, 28])\n",
            "torch.Size([1, 5, 24, 24])\n",
            "torch.Size([1, 5, 12, 12])\n"
          ],
          "name": "stdout"
        }
      ]
    },
    {
      "cell_type": "markdown",
      "metadata": {
        "id": "61L8VQuKZvEQ",
        "colab_type": "text"
      },
      "source": [
        "# cross correlation operator\n",
        "- 필터를 뒤집고 계산하면 conv\n",
        "- 필터를 안뒤집고 계산하면 cross"
      ]
    }
  ]
}