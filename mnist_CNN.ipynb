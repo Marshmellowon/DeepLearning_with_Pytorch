{
  "nbformat": 4,
  "nbformat_minor": 0,
  "metadata": {
    "colab": {
      "name": "mnist_CNN.ipynb",
      "provenance": [],
      "collapsed_sections": [],
      "authorship_tag": "ABX9TyOSdAzA5krZr/HTFKHG3qCy",
      "include_colab_link": true
    },
    "kernelspec": {
      "name": "python3",
      "display_name": "Python 3"
    }
  },
  "cells": [
    {
      "cell_type": "markdown",
      "metadata": {
        "id": "view-in-github",
        "colab_type": "text"
      },
      "source": [
        "<a href=\"https://colab.research.google.com/github/Marshmellowon/DeepLearning_with_Pytorch/blob/master/mnist_CNN.ipynb\" target=\"_parent\"><img src=\"https://colab.research.google.com/assets/colab-badge.svg\" alt=\"Open In Colab\"/></a>"
      ]
    },
    {
      "cell_type": "markdown",
      "metadata": {
        "id": "HYbyf6oDlEKj",
        "colab_type": "text"
      },
      "source": [
        "# Mnist CNN\n",
        "\n",
        "- 라이브러리 가져옴\n",
        "- GPU 사용 설정\n",
        "- 파라미터 설정\n",
        "- 데이터셋 가져오고 loader 만들기\n",
        "- 학습모델 만들기\n",
        "- loss func을 선택, 최적화 도구 선택(optimizer)\n",
        "- 모델 학습 및 loss check\n",
        "- 학습된 모델의 성능 확인\n",
        "\n"
      ]
    },
    {
      "cell_type": "code",
      "metadata": {
        "id": "ZEcZdeonlljK",
        "colab_type": "code",
        "colab": {}
      },
      "source": [
        "import torch\n",
        "import torch.nn as nn\n",
        "\n",
        "input = torch.Tensor(1,1,28,28)\n",
        "\n",
        "input.shape"
      ],
      "execution_count": null,
      "outputs": []
    },
    {
      "cell_type": "code",
      "metadata": {
        "id": "6j0LrhgXphsj",
        "colab_type": "code",
        "colab": {}
      },
      "source": [
        "conv1 = nn.Conv2d(1,32,3, padding=1)\n",
        "pool = nn.MaxPool2d(2)"
      ],
      "execution_count": null,
      "outputs": []
    },
    {
      "cell_type": "code",
      "metadata": {
        "id": "-AH2tYanpw_c",
        "colab_type": "code",
        "colab": {}
      },
      "source": [
        "conv2 = nn.Conv2d(32,64,3,padding=1)"
      ],
      "execution_count": null,
      "outputs": []
    },
    {
      "cell_type": "code",
      "metadata": {
        "id": "g8pC9oesp_JS",
        "colab_type": "code",
        "colab": {
          "base_uri": "https://localhost:8080/",
          "height": 35
        },
        "outputId": "461df8e7-f8af-4cab-b029-07602ed83128"
      },
      "source": [
        "out = conv1(input)\n",
        "out.shape"
      ],
      "execution_count": 47,
      "outputs": [
        {
          "output_type": "execute_result",
          "data": {
            "text/plain": [
              "torch.Size([1, 32, 28, 28])"
            ]
          },
          "metadata": {
            "tags": []
          },
          "execution_count": 47
        }
      ]
    },
    {
      "cell_type": "code",
      "metadata": {
        "id": "FUh5KbIgqGvK",
        "colab_type": "code",
        "colab": {
          "base_uri": "https://localhost:8080/",
          "height": 35
        },
        "outputId": "78df9cc7-717c-4624-ab90-27ad2ae15e42"
      },
      "source": [
        "out = pool(out)\n",
        "out.shape"
      ],
      "execution_count": 48,
      "outputs": [
        {
          "output_type": "execute_result",
          "data": {
            "text/plain": [
              "torch.Size([1, 32, 14, 14])"
            ]
          },
          "metadata": {
            "tags": []
          },
          "execution_count": 48
        }
      ]
    },
    {
      "cell_type": "code",
      "metadata": {
        "id": "efE2pz-GqN3z",
        "colab_type": "code",
        "colab": {
          "base_uri": "https://localhost:8080/",
          "height": 35
        },
        "outputId": "2d790a84-3884-4622-a7d7-c4ac64393274"
      },
      "source": [
        "out = conv2(out)\n",
        "out.shape"
      ],
      "execution_count": 49,
      "outputs": [
        {
          "output_type": "execute_result",
          "data": {
            "text/plain": [
              "torch.Size([1, 64, 14, 14])"
            ]
          },
          "metadata": {
            "tags": []
          },
          "execution_count": 49
        }
      ]
    },
    {
      "cell_type": "code",
      "metadata": {
        "id": "l9jFEhsdqUKr",
        "colab_type": "code",
        "colab": {
          "base_uri": "https://localhost:8080/",
          "height": 35
        },
        "outputId": "62349426-c0cb-4c40-a8f3-17540ba0b471"
      },
      "source": [
        "out = pool(out)\n",
        "out.shape"
      ],
      "execution_count": 50,
      "outputs": [
        {
          "output_type": "execute_result",
          "data": {
            "text/plain": [
              "torch.Size([1, 64, 7, 7])"
            ]
          },
          "metadata": {
            "tags": []
          },
          "execution_count": 50
        }
      ]
    },
    {
      "cell_type": "code",
      "metadata": {
        "id": "46Qort03qcOq",
        "colab_type": "code",
        "colab": {
          "base_uri": "https://localhost:8080/",
          "height": 35
        },
        "outputId": "901a5548-41b4-48e2-d326-1b5e45256222"
      },
      "source": [
        "out = out.view(out.size(0), -1)\n",
        "out.shape"
      ],
      "execution_count": 51,
      "outputs": [
        {
          "output_type": "execute_result",
          "data": {
            "text/plain": [
              "torch.Size([1, 3136])"
            ]
          },
          "metadata": {
            "tags": []
          },
          "execution_count": 51
        }
      ]
    },
    {
      "cell_type": "code",
      "metadata": {
        "id": "GGOK-Hqsqo8S",
        "colab_type": "code",
        "colab": {
          "base_uri": "https://localhost:8080/",
          "height": 89
        },
        "outputId": "a027d0c2-634e-4b03-9398-d0e521217373"
      },
      "source": [
        "fc = nn.Linear(3136, 10)\n",
        "out = fc(out)\n",
        "\n",
        "print(out)\n",
        "print(out.shape)"
      ],
      "execution_count": 52,
      "outputs": [
        {
          "output_type": "stream",
          "text": [
            "tensor([[ 1.7800e+30,  3.9313e+29, -3.8704e+29,  8.5679e+29, -4.5823e+29,\n",
            "          1.5384e+30,  1.1599e+30, -2.1150e+30,  3.4060e+29, -1.6742e+30]],\n",
            "       grad_fn=<AddmmBackward>)\n",
            "torch.Size([1, 10])\n"
          ],
          "name": "stdout"
        }
      ]
    }
  ]
}