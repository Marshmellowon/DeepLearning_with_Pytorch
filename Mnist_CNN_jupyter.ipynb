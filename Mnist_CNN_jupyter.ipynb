{
  "nbformat": 4,
  "nbformat_minor": 0,
  "metadata": {
    "colab": {
      "name": "Mnist_CNN_jupyter.ipynb",
      "provenance": [],
      "collapsed_sections": [],
      "authorship_tag": "ABX9TyNrr0evsH8bTGZYcsfpeNuA",
      "include_colab_link": true
    },
    "kernelspec": {
      "name": "python3",
      "display_name": "Python 3"
    }
  },
  "cells": [
    {
      "cell_type": "markdown",
      "metadata": {
        "id": "view-in-github",
        "colab_type": "text"
      },
      "source": [
        "<a href=\"https://colab.research.google.com/github/Marshmellowon/DeepLearning_with_Pytorch/blob/master/Mnist_CNN_jupyter.ipynb\" target=\"_parent\"><img src=\"https://colab.research.google.com/assets/colab-badge.svg\" alt=\"Open In Colab\"/></a>"
      ]
    },
    {
      "cell_type": "code",
      "metadata": {
        "id": "7-iKH2NwrYng",
        "colab_type": "code",
        "colab": {}
      },
      "source": [
        "import torch \n",
        "import torch.nn as nn\n",
        "import torchvision.transforms as transforms\n",
        "import torchvision.datasets as dsets\n",
        "\n",
        "import torch.nn.init"
      ],
      "execution_count": null,
      "outputs": []
    },
    {
      "cell_type": "code",
      "metadata": {
        "id": "bg6Zyoe_rwcC",
        "colab_type": "code",
        "colab": {}
      },
      "source": [
        "# GPU 설정\n",
        "\n",
        "device = 'cuda' if torch.cuda.is_available() else 'cpu'\n",
        "\n",
        "# for reproducibility\n",
        "torch.manual_seed(777)\n",
        "if device == 'cuda':\n",
        "    torch.cuda.manual_seed_all(777)\n",
        "\n",
        "print(device)"
      ],
      "execution_count": null,
      "outputs": []
    },
    {
      "cell_type": "code",
      "metadata": {
        "id": "t82N2P4osMd6",
        "colab_type": "code",
        "colab": {}
      },
      "source": [
        "# parameters\n",
        "learning_rate = 0.001\n",
        "training_epochs = 15\n",
        "batch_size = 100"
      ],
      "execution_count": null,
      "outputs": []
    },
    {
      "cell_type": "code",
      "metadata": {
        "id": "PKMgdDarsdDx",
        "colab_type": "code",
        "colab": {}
      },
      "source": [
        "# MNIST dataset\n",
        "mnist_train = dsets.MNIST(root='MNIST_data/',\n",
        "                          train=True,\n",
        "                          transform=transforms.ToTensor(),\n",
        "                          download=True)\n",
        "\n",
        "mnist_test = dsets.MNIST(root='MNIST_data/',\n",
        "                         train=False,\n",
        "                         transform=transforms.ToTensor(),\n",
        "                         download=True)"
      ],
      "execution_count": 153,
      "outputs": []
    },
    {
      "cell_type": "code",
      "metadata": {
        "id": "2KeJXvGtslsK",
        "colab_type": "code",
        "colab": {}
      },
      "source": [
        "# dataset loader\n",
        "data_loader = torch.utils.data.DataLoader(dataset=mnist_train,\n",
        "                                          batch_size=batch_size,\n",
        "                                          shuffle=True, # 데이터를 섞은 상태로 던져줘라\n",
        "                                          drop_last=True)"
      ],
      "execution_count": 154,
      "outputs": []
    },
    {
      "cell_type": "code",
      "metadata": {
        "id": "GaDqcKJ_tfrV",
        "colab_type": "code",
        "colab": {}
      },
      "source": [
        "class CNN(nn.Module):\n",
        "  def __init__(self):\n",
        "    super(CNN, self).__init__()\n",
        "    self.layer1 = nn.Sequential(nn.Conv2d(1,32, kernel_size=3, stride=1, padding=1),\n",
        "                                nn.ReLU(),\n",
        "                                nn.MaxPool2d(2))\n",
        "    \n",
        "    self.layer2 = nn.Sequential(nn.Conv2d(32,64,kernel_size=3, stride=1, padding=1),\n",
        "                                nn.ReLU(),\n",
        "                                nn.MaxPool2d(2))\n",
        "    self.layer3 = nn.Sequential(nn.Conv2d(64,128,kernel_size=3, stride=1, padding=1),\n",
        "                                nn.ReLU(),\n",
        "                                nn.MaxPool2d(2))\n",
        "    \n",
        "    # fooly connected layer\n",
        "    self.fc1 = nn.Linear(3*3*128, 625)\n",
        "    self.relu = nn.ReLU()\n",
        "    self.fc2 = nn.Linear(625, 10, bias=True)\n",
        "    torch.nn.init.xavier_uniform_(self.fc1.weight)\n",
        "    torch.nn.init.xavier_uniform_(self.fc2.weight)\n",
        "\n",
        "  def forward(self, x):\n",
        "    out = self.layer1(x)\n",
        "    out = self.layer2(out)\n",
        "    out = self.layer3(out)\n",
        "    \n",
        "    out = out.view(out.size(0),-1)\n",
        "    out = self.fc1(out)\n",
        "    out = self.relu(out)\n",
        "    out = self.fc2(out)\n",
        "    return out"
      ],
      "execution_count": 155,
      "outputs": []
    },
    {
      "cell_type": "code",
      "metadata": {
        "id": "R1NsRdv5vSTr",
        "colab_type": "code",
        "colab": {
          "base_uri": "https://localhost:8080/",
          "height": 395
        },
        "outputId": "278b5bae-8116-44ab-bacd-806dfceda913"
      },
      "source": [
        "model = CNN().to(device)\n",
        "print(model)\n",
        "\n",
        "value = torch.Tensor(1,1,28,28,).to(device)\n",
        "print((model(value)).shape)   "
      ],
      "execution_count": 156,
      "outputs": [
        {
          "output_type": "stream",
          "text": [
            "CNN(\n",
            "  (layer1): Sequential(\n",
            "    (0): Conv2d(1, 32, kernel_size=(3, 3), stride=(1, 1), padding=(1, 1))\n",
            "    (1): ReLU()\n",
            "    (2): MaxPool2d(kernel_size=2, stride=2, padding=0, dilation=1, ceil_mode=False)\n",
            "  )\n",
            "  (layer2): Sequential(\n",
            "    (0): Conv2d(32, 64, kernel_size=(3, 3), stride=(1, 1), padding=(1, 1))\n",
            "    (1): ReLU()\n",
            "    (2): MaxPool2d(kernel_size=2, stride=2, padding=0, dilation=1, ceil_mode=False)\n",
            "  )\n",
            "  (layer3): Sequential(\n",
            "    (0): Conv2d(64, 128, kernel_size=(3, 3), stride=(1, 1), padding=(1, 1))\n",
            "    (1): ReLU()\n",
            "    (2): MaxPool2d(kernel_size=2, stride=2, padding=0, dilation=1, ceil_mode=False)\n",
            "  )\n",
            "  (fc1): Linear(in_features=1152, out_features=625, bias=True)\n",
            "  (relu): ReLU()\n",
            "  (fc2): Linear(in_features=625, out_features=10, bias=True)\n",
            ")\n",
            "torch.Size([1, 10])\n"
          ],
          "name": "stdout"
        }
      ]
    },
    {
      "cell_type": "code",
      "metadata": {
        "id": "baJwH1Hhvf2Y",
        "colab_type": "code",
        "colab": {}
      },
      "source": [
        "criterion = nn.CrossEntropyLoss().to(device)\n",
        "optimizer = torch.optim.Adam(model.parameters(), lr = learning_rate)"
      ],
      "execution_count": 157,
      "outputs": []
    },
    {
      "cell_type": "code",
      "metadata": {
        "id": "1zwz67OkvxU-",
        "colab_type": "code",
        "colab": {
          "base_uri": "https://localhost:8080/",
          "height": 323
        },
        "outputId": "133d4828-c992-42ef-8f17-dffccf7d4403"
      },
      "source": [
        "# training\n",
        "total_batch = len(data_loader)\n",
        "print('Learning Start')\n",
        "\n",
        "for epoch in range(training_epochs):\n",
        "  avg_cost = 0\n",
        "\n",
        "  for X,Y in data_loader:\n",
        "    X = X.to(device)\n",
        "    Y = Y.to(device)\n",
        "\n",
        "    optimizer.zero_grad() # 매우 중요 빼먹으면 학습 안됨\n",
        "    hypothesis = model(X)\n",
        "\n",
        "    cost = criterion(hypothesis, Y)\n",
        "    cost.backward()\n",
        "    optimizer.step()\n",
        "\n",
        "    avg_cost += cost/total_batch\n",
        "\n",
        "  print('[Epoch: {}] cost = {}'.format(epoch+1, avg_cost))\n",
        "\n",
        "print('Learning fin!!')"
      ],
      "execution_count": 158,
      "outputs": [
        {
          "output_type": "stream",
          "text": [
            "Learning Start\n",
            "[Epoch: 1] cost = 0.16031615436077118\n",
            "[Epoch: 2] cost = 0.04234233871102333\n",
            "[Epoch: 3] cost = 0.03109152801334858\n",
            "[Epoch: 4] cost = 0.02314816601574421\n",
            "[Epoch: 5] cost = 0.01905001513659954\n",
            "[Epoch: 6] cost = 0.014574842527508736\n",
            "[Epoch: 7] cost = 0.011850343085825443\n",
            "[Epoch: 8] cost = 0.012958429753780365\n",
            "[Epoch: 9] cost = 0.008543276228010654\n",
            "[Epoch: 10] cost = 0.009873151779174805\n",
            "[Epoch: 11] cost = 0.006704459898173809\n",
            "[Epoch: 12] cost = 0.007122073322534561\n",
            "[Epoch: 13] cost = 0.006904544774442911\n",
            "[Epoch: 14] cost = 0.007137093227356672\n",
            "[Epoch: 15] cost = 0.004373317118734121\n",
            "Learning fin!!\n"
          ],
          "name": "stdout"
        }
      ]
    },
    {
      "cell_type": "code",
      "metadata": {
        "id": "C51ud_15Eoml",
        "colab_type": "code",
        "colab": {
          "base_uri": "https://localhost:8080/",
          "height": 107
        },
        "outputId": "c3b65f4a-0f9f-43d4-c1ae-e978693f2276"
      },
      "source": [
        "with torch.no_grad():\n",
        "  X_test = mnist_test.test_data.view(len(mnist_test), 1,28,28).float().to(device)\n",
        "  Y_test = mnist_test.test_labels.to(device)\n",
        "\n",
        "  prediction = model(X_test)\n",
        "  correct_prediction = torch.argmax(prediction,1) == Y_test\n",
        "  accuracy = correct_prediction.float().mean()\n",
        "  print('Accuracy: ', accuracy.item())"
      ],
      "execution_count": 159,
      "outputs": [
        {
          "output_type": "stream",
          "text": [
            "/usr/local/lib/python3.6/dist-packages/torchvision/datasets/mnist.py:60: UserWarning: test_data has been renamed data\n",
            "  warnings.warn(\"test_data has been renamed data\")\n",
            "/usr/local/lib/python3.6/dist-packages/torchvision/datasets/mnist.py:50: UserWarning: test_labels has been renamed targets\n",
            "  warnings.warn(\"test_labels has been renamed targets\")\n"
          ],
          "name": "stderr"
        },
        {
          "output_type": "stream",
          "text": [
            "Accuracy:  0.9901000261306763\n"
          ],
          "name": "stdout"
        }
      ]
    },
    {
      "cell_type": "markdown",
      "metadata": {
        "id": "MgPfMBqNITOs",
        "colab_type": "text"
      },
      "source": [
        "- 레이어를 깊게 쌓으면 어떻게 될까??\n",
        "- 레이어를 깊게 쌓는다고 무조건 정확도가 높아지지는 않는다."
      ]
    }
  ]
}