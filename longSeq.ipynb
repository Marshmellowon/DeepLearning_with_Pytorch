{
  "nbformat": 4,
  "nbformat_minor": 0,
  "metadata": {
    "colab": {
      "name": "longSeq.ipynb",
      "provenance": [],
      "collapsed_sections": [],
      "authorship_tag": "ABX9TyOFn2yEraGnWLb1OE7S8j/3",
      "include_colab_link": true
    },
    "kernelspec": {
      "name": "python3",
      "display_name": "Python 3"
    }
  },
  "cells": [
    {
      "cell_type": "markdown",
      "metadata": {
        "id": "view-in-github",
        "colab_type": "text"
      },
      "source": [
        "<a href=\"https://colab.research.google.com/github/Marshmellowon/DeepLearning_with_Pytorch/blob/master/longSeq.ipynb\" target=\"_parent\"><img src=\"https://colab.research.google.com/assets/colab-badge.svg\" alt=\"Open In Colab\"/></a>"
      ]
    },
    {
      "cell_type": "code",
      "metadata": {
        "id": "cC1BmEht7XG6",
        "colab_type": "code",
        "colab": {}
      },
      "source": [
        "import torch\n",
        "import torch.optim as optim\n",
        "import numpy as np"
      ],
      "execution_count": null,
      "outputs": []
    },
    {
      "cell_type": "code",
      "metadata": {
        "id": "hcQWjER17osF",
        "colab_type": "code",
        "colab": {
          "base_uri": "https://localhost:8080/",
          "height": 35
        },
        "outputId": "a1fb5137-375f-44c0-a2df-12ae26484c73"
      },
      "source": [
        "# Random seed to make results deterministic and reproducible\n",
        "torch.manual_seed(0)"
      ],
      "execution_count": 2,
      "outputs": [
        {
          "output_type": "execute_result",
          "data": {
            "text/plain": [
              "<torch._C.Generator at 0x7efdb2fa00d8>"
            ]
          },
          "metadata": {
            "tags": []
          },
          "execution_count": 2
        }
      ]
    },
    {
      "cell_type": "code",
      "metadata": {
        "id": "I6DpT3Cd7o2t",
        "colab_type": "code",
        "colab": {}
      },
      "source": [
        "sentence = (\"if you want to build a ship, don't drum up people together to \"\n",
        "            \"collect wood and don't assign them tasks and work, but rather \"\n",
        "            \"teach them to long for the endless immensity of the sea.\")"
      ],
      "execution_count": 3,
      "outputs": []
    },
    {
      "cell_type": "code",
      "metadata": {
        "id": "oLdxAL0Y7pCO",
        "colab_type": "code",
        "colab": {}
      },
      "source": [
        "# make dictionary\n",
        "char_set = list(set(sentence))\n",
        "char_dic = {c: i for i, c in enumerate(char_set)}"
      ],
      "execution_count": 4,
      "outputs": []
    },
    {
      "cell_type": "code",
      "metadata": {
        "id": "cIFlGKzJ7pMb",
        "colab_type": "code",
        "colab": {}
      },
      "source": [
        "# hyper parameters\n",
        "dic_size = len(char_dic)\n",
        "hidden_size = len(char_dic)\n",
        "sequence_length = 10  # Any arbitrary number\n",
        "learning_rate = 0.1"
      ],
      "execution_count": 5,
      "outputs": []
    },
    {
      "cell_type": "code",
      "metadata": {
        "id": "wfV7QAc_7pWm",
        "colab_type": "code",
        "colab": {
          "base_uri": "https://localhost:8080/",
          "height": 1000
        },
        "outputId": "e409e465-45f0-4f23-9a3e-ec57982a1113"
      },
      "source": [
        "# data setting\n",
        "x_data = []\n",
        "y_data = []\n",
        "\n",
        "# 앞문장 부터 전체 길이 - length\n",
        "for i in range(0, len(sentence) - sequence_length):\n",
        "    x_str = sentence[i:i + sequence_length]\n",
        "    y_str = sentence[i + 1: i + sequence_length + 1]\n",
        "    print(i, x_str, '->', y_str)\n",
        "\n",
        "    x_data.append([char_dic[c] for c in x_str])  # x str to index\n",
        "    y_data.append([char_dic[c] for c in y_str])  # y str to index\n",
        "\n",
        "x_one_hot = [np.eye(dic_size)[x] for x in x_data] "
      ],
      "execution_count": 6,
      "outputs": [
        {
          "output_type": "stream",
          "text": [
            "0 if you wan -> f you want\n",
            "1 f you want ->  you want \n",
            "2  you want  -> you want t\n",
            "3 you want t -> ou want to\n",
            "4 ou want to -> u want to \n",
            "5 u want to  ->  want to b\n",
            "6  want to b -> want to bu\n",
            "7 want to bu -> ant to bui\n",
            "8 ant to bui -> nt to buil\n",
            "9 nt to buil -> t to build\n",
            "10 t to build ->  to build \n",
            "11  to build  -> to build a\n",
            "12 to build a -> o build a \n",
            "13 o build a  ->  build a s\n",
            "14  build a s -> build a sh\n",
            "15 build a sh -> uild a shi\n",
            "16 uild a shi -> ild a ship\n",
            "17 ild a ship -> ld a ship,\n",
            "18 ld a ship, -> d a ship, \n",
            "19 d a ship,  ->  a ship, d\n",
            "20  a ship, d -> a ship, do\n",
            "21 a ship, do ->  ship, don\n",
            "22  ship, don -> ship, don'\n",
            "23 ship, don' -> hip, don't\n",
            "24 hip, don't -> ip, don't \n",
            "25 ip, don't  -> p, don't d\n",
            "26 p, don't d -> , don't dr\n",
            "27 , don't dr ->  don't dru\n",
            "28  don't dru -> don't drum\n",
            "29 don't drum -> on't drum \n",
            "30 on't drum  -> n't drum u\n",
            "31 n't drum u -> 't drum up\n",
            "32 't drum up -> t drum up \n",
            "33 t drum up  ->  drum up p\n",
            "34  drum up p -> drum up pe\n",
            "35 drum up pe -> rum up peo\n",
            "36 rum up peo -> um up peop\n",
            "37 um up peop -> m up peopl\n",
            "38 m up peopl ->  up people\n",
            "39  up people -> up people \n",
            "40 up people  -> p people t\n",
            "41 p people t ->  people to\n",
            "42  people to -> people tog\n",
            "43 people tog -> eople toge\n",
            "44 eople toge -> ople toget\n",
            "45 ople toget -> ple togeth\n",
            "46 ple togeth -> le togethe\n",
            "47 le togethe -> e together\n",
            "48 e together ->  together \n",
            "49  together  -> together t\n",
            "50 together t -> ogether to\n",
            "51 ogether to -> gether to \n",
            "52 gether to  -> ether to c\n",
            "53 ether to c -> ther to co\n",
            "54 ther to co -> her to col\n",
            "55 her to col -> er to coll\n",
            "56 er to coll -> r to colle\n",
            "57 r to colle ->  to collec\n",
            "58  to collec -> to collect\n",
            "59 to collect -> o collect \n",
            "60 o collect  ->  collect w\n",
            "61  collect w -> collect wo\n",
            "62 collect wo -> ollect woo\n",
            "63 ollect woo -> llect wood\n",
            "64 llect wood -> lect wood \n",
            "65 lect wood  -> ect wood a\n",
            "66 ect wood a -> ct wood an\n",
            "67 ct wood an -> t wood and\n",
            "68 t wood and ->  wood and \n",
            "69  wood and  -> wood and d\n",
            "70 wood and d -> ood and do\n",
            "71 ood and do -> od and don\n",
            "72 od and don -> d and don'\n",
            "73 d and don' ->  and don't\n",
            "74  and don't -> and don't \n",
            "75 and don't  -> nd don't a\n",
            "76 nd don't a -> d don't as\n",
            "77 d don't as ->  don't ass\n",
            "78  don't ass -> don't assi\n",
            "79 don't assi -> on't assig\n",
            "80 on't assig -> n't assign\n",
            "81 n't assign -> 't assign \n",
            "82 't assign  -> t assign t\n",
            "83 t assign t ->  assign th\n",
            "84  assign th -> assign the\n",
            "85 assign the -> ssign them\n",
            "86 ssign them -> sign them \n",
            "87 sign them  -> ign them t\n",
            "88 ign them t -> gn them ta\n",
            "89 gn them ta -> n them tas\n",
            "90 n them tas ->  them task\n",
            "91  them task -> them tasks\n",
            "92 them tasks -> hem tasks \n",
            "93 hem tasks  -> em tasks a\n",
            "94 em tasks a -> m tasks an\n",
            "95 m tasks an ->  tasks and\n",
            "96  tasks and -> tasks and \n",
            "97 tasks and  -> asks and w\n",
            "98 asks and w -> sks and wo\n",
            "99 sks and wo -> ks and wor\n",
            "100 ks and wor -> s and work\n",
            "101 s and work ->  and work,\n",
            "102  and work, -> and work, \n",
            "103 and work,  -> nd work, b\n",
            "104 nd work, b -> d work, bu\n",
            "105 d work, bu ->  work, but\n",
            "106  work, but -> work, but \n",
            "107 work, but  -> ork, but r\n",
            "108 ork, but r -> rk, but ra\n",
            "109 rk, but ra -> k, but rat\n",
            "110 k, but rat -> , but rath\n",
            "111 , but rath ->  but rathe\n",
            "112  but rathe -> but rather\n",
            "113 but rather -> ut rather \n",
            "114 ut rather  -> t rather t\n",
            "115 t rather t ->  rather te\n",
            "116  rather te -> rather tea\n",
            "117 rather tea -> ather teac\n",
            "118 ather teac -> ther teach\n",
            "119 ther teach -> her teach \n",
            "120 her teach  -> er teach t\n",
            "121 er teach t -> r teach th\n",
            "122 r teach th ->  teach the\n",
            "123  teach the -> teach them\n",
            "124 teach them -> each them \n",
            "125 each them  -> ach them t\n",
            "126 ach them t -> ch them to\n",
            "127 ch them to -> h them to \n",
            "128 h them to  ->  them to l\n",
            "129  them to l -> them to lo\n",
            "130 them to lo -> hem to lon\n",
            "131 hem to lon -> em to long\n",
            "132 em to long -> m to long \n",
            "133 m to long  ->  to long f\n",
            "134  to long f -> to long fo\n",
            "135 to long fo -> o long for\n",
            "136 o long for ->  long for \n",
            "137  long for  -> long for t\n",
            "138 long for t -> ong for th\n",
            "139 ong for th -> ng for the\n",
            "140 ng for the -> g for the \n",
            "141 g for the  ->  for the e\n",
            "142  for the e -> for the en\n",
            "143 for the en -> or the end\n",
            "144 or the end -> r the endl\n",
            "145 r the endl ->  the endle\n",
            "146  the endle -> the endles\n",
            "147 the endles -> he endless\n",
            "148 he endless -> e endless \n",
            "149 e endless  ->  endless i\n",
            "150  endless i -> endless im\n",
            "151 endless im -> ndless imm\n",
            "152 ndless imm -> dless imme\n",
            "153 dless imme -> less immen\n",
            "154 less immen -> ess immens\n",
            "155 ess immens -> ss immensi\n",
            "156 ss immensi -> s immensit\n",
            "157 s immensit ->  immensity\n",
            "158  immensity -> immensity \n",
            "159 immensity  -> mmensity o\n",
            "160 mmensity o -> mensity of\n",
            "161 mensity of -> ensity of \n",
            "162 ensity of  -> nsity of t\n",
            "163 nsity of t -> sity of th\n",
            "164 sity of th -> ity of the\n",
            "165 ity of the -> ty of the \n",
            "166 ty of the  -> y of the s\n",
            "167 y of the s ->  of the se\n",
            "168  of the se -> of the sea\n",
            "169 of the sea -> f the sea.\n"
          ],
          "name": "stdout"
        }
      ]
    },
    {
      "cell_type": "code",
      "metadata": {
        "id": "Bim78YnA7pgn",
        "colab_type": "code",
        "colab": {}
      },
      "source": [
        "# transform as torch tensor variable\n",
        "X = torch.FloatTensor(x_one_hot)\n",
        "Y = torch.LongTensor(y_data)"
      ],
      "execution_count": 7,
      "outputs": []
    },
    {
      "cell_type": "code",
      "metadata": {
        "id": "Lvl4TAxj7pqj",
        "colab_type": "code",
        "colab": {}
      },
      "source": [
        "# declare RNN + FC\n",
        "class Net(torch.nn.Module):\n",
        "    def __init__(self, input_dim, hidden_dim, layers):\n",
        "        super(Net, self).__init__()\n",
        "        self.rnn = torch.nn.RNN(input_dim, hidden_dim, num_layers=layers, batch_first=True)\n",
        "        self.fc = torch.nn.Linear(hidden_dim, hidden_dim, bias=True)\n",
        "\n",
        "    def forward(self, x):\n",
        "        x, _status = self.rnn(x)\n",
        "        x = self.fc(x)\n",
        "        return x"
      ],
      "execution_count": 8,
      "outputs": []
    },
    {
      "cell_type": "code",
      "metadata": {
        "id": "2deoKsS57p1e",
        "colab_type": "code",
        "colab": {}
      },
      "source": [
        "# declare RNN + FC\n",
        "class Net(torch.nn.Module):\n",
        "  # constructor\n",
        "    def __init__(self, input_dim, hidden_dim, layers):\n",
        "        super(Net, self).__init__()\n",
        "        self.rnn = torch.nn.RNN(input_dim, hidden_dim, num_layers=layers, batch_first=True)\n",
        "        self.fc = torch.nn.Linear(hidden_dim, hidden_dim, bias=True)\n",
        "\n",
        "    def forward(self, x):\n",
        "        x, _status = self.rnn(x)\n",
        "        x = self.fc(x)\n",
        "        return x\n",
        "\n",
        "# rnn 2번 통과\n",
        "net = Net(dic_size, hidden_size, 2)"
      ],
      "execution_count": 9,
      "outputs": []
    },
    {
      "cell_type": "code",
      "metadata": {
        "id": "MmAy56BQ70do",
        "colab_type": "code",
        "colab": {}
      },
      "source": [
        "# loss & optimizer setting\n",
        "criterion = torch.nn.CrossEntropyLoss()\n",
        "optimizer = optim.Adam(net.parameters(), learning_rate)"
      ],
      "execution_count": 10,
      "outputs": []
    },
    {
      "cell_type": "code",
      "metadata": {
        "id": "gJr8OxYB70oK",
        "colab_type": "code",
        "colab": {
          "base_uri": "https://localhost:8080/",
          "height": 1000
        },
        "outputId": "b67d8ab4-52cf-4765-de6f-d20c4c1951d3"
      },
      "source": [
        "# start training\n",
        "for i in range(100):\n",
        "  # zero_grad\n",
        "    optimizer.zero_grad()\n",
        "    outputs = net(X)\n",
        "    loss = criterion(outputs.view(-1, dic_size), Y.view(-1)) # out과 정답 레이블\n",
        "    loss.backward()\n",
        "    optimizer.step()\n",
        "\n",
        "    results = outputs.argmax(dim=2) # prediction이 가장 큰값\n",
        "    predict_str = \"\"\n",
        "    for j, result in enumerate(results):\n",
        "        # print(i, j, ''.join([char_set[t] for t in result]), loss.item())\n",
        "        if j == 0:\n",
        "            predict_str += ''.join([char_set[t] for t in result])\n",
        "        else:\n",
        "            predict_str += char_set[result[-1]]\n",
        "\n",
        "    print(predict_str)"
      ],
      "execution_count": 11,
      "outputs": [
        {
          "output_type": "stream",
          "text": [
            "hcnnnhhnhnnhnnhnnncnhhhhcncchnnhhccnncohhchccnchcenchhnnnchnchhnccccnhnnchhhnnhcchhcchchchnhhncnnnhhchhhnnhncccchonnhnhhnnnhhcocnchncnhnnhhcnhhcnhhhnncnnnccchhnnncncccnhnchcncchcc\n",
            "                                                                                                                                                                                   \n",
            "mu.etm.etmmmttmmtmmmmmtmmmttmmtmmmtmtmmtmtmmttmmtmmtmmmttmmmtmmttmmmmtmtmmmmtmmmtmmmtmtmmttmttmmmttmmmtmtmmttmmmtmtmmttmmmtmmtmmttmmmmmttmmmtmmmtmmmtmmmtmmmtmtttmmttmmmtttmmtmmmtm\n",
            "tttonhttttttttootttttotttttttottttttttttotttttttttotttttttttttttttttttottttootttttttttttttttottttottttttttttttottotttttttttttttttttttttotttttttotttttttttttttttttttttottttttttttttt\n",
            "                       n                                                                                                                                                           \n",
            " h h  hh    h ho h  h     h    h h     h  hh  h   h h h   hh hh h  h  h    h  h  h h        h   hh h   h   h hh hh h   h   hh  h hh   hh hh h hh hhh  hh  h  h h  h  h  h   h  hh  \n",
            "   o     o  o sn    sosn  s sh s ss    so s      so   s    o    l  o so   so     o   s     so   so      s so  s  o   s o   so         so  h l so sss        ss       s  l s   ss   \n",
            " o o   o   wo so  sssos   s so  sss   ssosto  ls sh ssss sso so ss   so ssso     s   t   ssso   so    sss so st  o   s o   so    so   so so s so s o  sosssss  n  sost  s sss sso s\n",
            "toto  do o wo to  o to   to to   tto toto to  w  to ttt   to to to   to   to  wo t  to  t  to   to  t to  to tt  o  to o  sto  o to   to to   to  to  to  toto t  t  t  to to  to  \n",
            "toto  to o to to l  tntodtt to t  to t to t   totto tto t toeto ttn  toet toe to t  to    tto t to ot tn  toett to  to o t toeto to t to to t to tto tto tttt to tt  t  t  toettoet\n",
            "t io  toe  to to l  tntoe o toet  to t to tt  l  to l he  toetoel nt toe  toe to lt tn  t  toe  to o  tn  toelt toe to oe  toeto to r toeto l to  the th    t toe tn t  tn toe the \n",
            "t ion an t toeto l  lnlhe a toe   t    t  ttn lo lo l     toethel it toe  tn  to lt tn  l  toe  to  t tnd toe t to  th  e dioe o lo   theto   toe th  tn  t   th  te t  tn the th  \n",
            "p ion aa   to tonl  t th la to lt t    th t   l  th lth   th to leit to   tnd to l  tn  l  th   to    tnd to  t to  the e  th lo to   to ton  to  th  thd e   th  ae e  tn th  th  \n",
            "p ihn ahse to to le tnth ps to lt e  m tnsaso leid  eeh p to tonlepe ton  and to ee ens l  ah p to ks and ton t to   hsh p to po to r to tonl to  th psh  e s th  ae eh tn th msh  \n",
            "p sun tose to to le tsthnls tonlt t  m tnstso le th eeh m to tonle t tonm tns tonet tns l  to e toshs tnd ton t tos sesh m to po to e tontonl ton th msh  e s to  ae eostn th mshs \n",
            "p son tosm to to le tsthnlo ton't tn m tnstso le th  th m to tonlect tonm tns to 't tns l  to m tosps tnd ton t tos t to m to  o to m to tonl ton to mtnd e h to  ee e  tn to mths \n",
            "p ton tonm to to le tsthept ton't tn m tnstso le thg them toetonleit tonm tnd toe't tns l  them tosps tnd ton t tos t them tos o toem toetonl ton toe tnd e h tm  ee t  tn toemthd \n",
            "p ton tosd toetoile tst ept toe't tnem tnstso le thg them toeto leit tonm tnd toe't tns le them totps tnd ton t tot tethem tot o toem toetonl toe toemtnd eas tm  os t  tn toemthe \n",
            "p ton tasd toetoile tsthect toe't tnem tnsasogle thg'them toeto lect donm tnd woe't tns le them totks tnd won t toi tnthem totco toem toetorl toe themtnd ens tm ens t  tn themthe \n",
            "l ion tand toeloile tsshem, won't tnem tfsaso le ,hg'them toeco lecd donm tnd won't tns ln them tosks tnd won t boi tethem tot o boem toelon' ton the tndkens tm ens to tf themt e \n",
            "l ion tasd to coile tnshec, won't tn m tfsaso le thg'the  th co lect donm tnd won't tns ln them tosks dnd won s bot tethem tosco bhem to conl ton the ,ndkens tm ens t  tf t e , ec\n",
            "poion aasd to boild tsshem, won't tnem tfsaso le thg'them to co lect donm tnd won't tns gn them toscs dnd won s bot teshem tosco bhem to conl ton the snd ens tm ens t  tf the shec\n",
            "peion wafd to boild tsshem, won't anem tpsa o le thg'them to co lect donm tnd won't ans gn them tosks dnd won', bot iashem tosco bhem toncon' ton the snd ens dmeensieo tf thershec\n",
            "p ton aond to boild tsshep, won't tnem tpst ople thg'the  to co lect wo m tnd won't trs gn toem tosks dnd won , wot eather totco them to corg tor the snd ess imeensieo of the shec\n",
            "p ton aand to toild tnshep, won't anem upsu ople thg'ther to lollect wonm tnd wog't arsign them totks dnd won , bot eather torco them to long tor thersndless imeensito of the shec\n",
            "p ton aand to botld tnshept won't an m tpsoeople thgether to co lect wonl tnd won't ansign toem totks and won , bot earher totco them to cong tor the sndless imeensiao of the sotc\n",
            "p totkaond to boild tsshep, won't anem mp people thgether to collect wo l tnd won't ansign them totkt dnd donkt bui eather totco them th bon' wor thersndless imeensit  of the sotc\n",
            "m tot aand to boild tsshep, won't arem up teople together to collect wo l tnd won't ansign them totkt and wonk, bui iather totco them to cond for toe sndless imeensiay of the soec\n",
            "meton aant to build tnshep, don't ar m up people thgether to bollect do l and won't ansign them totkt and donk, bui iather totch them to bond for thersndless imeensiay of the toe \n",
            "m tot aant to build tsshep, don't armm up people thgether to collect dord tnd don't ansign them totkt and dork, but iather totch them ta bor' dor thertndless imeensit  of thertoec\n",
            "poton aant to build tsshep, don't arum up people thgether to bollect dood and won't assign them totkt and dork, but iather totch them to bor' for thersndless imeensit  of thershec\n",
            "poton aant to build asshep, don't arum up people thgether to lollect dord and won't assign them totks and dork, but iather toach them to lor' for the sndless imeensity of the soec\n",
            "poton want to build anshep, don't armm up people thgether to collect wood and won't ansign them totks and dork, but eather torch them te lorg for thersndless imeensity of the soec\n",
            "po on want to build a shep, don't arum up neople thgethe  to lollect wood and won't assign ther tosks and dork, but eather toach them to long for the sndless immensity of the soic\n",
            "poton aant to build a shep, don't arum up people thgether to collect wood and don't assign them tosks and dork, but eather toach them to cong for toe sndless immensity of the soic\n",
            "poton aant to build anship, don't arum up people together to collect wool and don't ansign them tosks and dork, but rather toach them to long for the sndless immensity of the shic\n",
            "poton aant to build a ship, don't arum up people togethe  to collect wood and won't assign them tasks and dork, but rather toach them to long for the sndless immensity of toe shi \n",
            "r ton aant to build a ship, don't arum up people together to lollect wood and don't assign them tosks and dork, but rather toach them to lonl for the sndless immensity of the sot \n",
            "r ton want to build a ship, don't drum up people together to bollect wood and won't dssign them tosks and work, but rather toach them to cong for therendless im ensity of the sotc\n",
            "p ton want to cuild a ship, don't drum up people together th collect wood and won't dssign them tasks and work, but rather teach them ta cong for the sndless immensity of the shic\n",
            "p ton want to luild a ship, don't drum up people together to lollect wood and won't dssign them tasks and dork, but rather toach them ta long for the sndless immensity of the shic\n",
            "p too want to build a ship, don't drum up people together to collect wood and don't dssign them tosks and dork, but rather toach them to cong for the sndless immensity of the shic\n",
            "p ton want to build a ship, don't drum up people together to collect wood and don't assign them tosks and dork, but rather toach them ta long for the endless immensity of the shic\n",
            "p ton want to build a ship, don't arum up people together to lollect wood and don't assign them tasks and dork, but rather toach them ta long for the endless immensity of the ship\n",
            "p ton want to build a ship, don't drum up people together to collect wood and won't assign them tasks and work, but rather toach them ta bong for the endless immensity of the seic\n",
            "p ton want to build a ship, don't arum up people together to collect wood and won't assign them tasks and work, but rather toach them ta long for the endless immensity of the ship\n",
            "p ton want to build a ship, don't arum up people together to collect wood and won't assign them tasks and work, but rather toach them ta long for the endless immensity of the shac\n",
            "p ton want to build a ship, don't arum up people together to collect wood and won't assign them tasks and work, but rather toach them ta long for the endless immensity of the seic\n",
            "p tou want to build a ship, don't arum up people together te collect wood and won't assign them tasks and work, but rather toach them to long for the endless immensity of the seic\n",
            "m cou want to build a ship, don't arum up people together te collect wood and don't assign them tasks and work, but rather teach them to long for the endless immensity of the seic\n",
            "m cou want to build a ship, don't drum up people together te collect wood and don't dssign them tosks and work, but rather teach them to long for the endless immensity of the soac\n",
            "l tou want to build a ship, don't drum up people together te collect wood and don't dssign them tosks and work, but rather toach them to long for the endless immensity of the seic\n",
            "l tou want to build a ship, don't drum up people together te collect wood and don't dssign them tosks and work, but rather toach them to long for the endless immensity of the seap\n",
            "m you want to build a ship, don't drum up people together to collect wood and don't assign them tosks and work, but rather toach them to long for the endless immensity of the seac\n",
            "t mou want to build a ship, don't drum up people together te collect wood and don't assign them tosks and work, but rather toach them to long for the endless immensity of the seac\n",
            "t mou want to build a ship, don't drum up people together to collect wood and don't assign them tasks and work, but rather toach them to long for the endless immensity of the seac\n",
            "g mou want to build a ship, don't drum up people together to collect wood and don't assign them tasks and work, but rather toach them ta long for the endless immensity of the seac\n",
            "g mou want to build a ship, don't arum up people together te collect wood and don't assign them tosks and work, but rather teach them to long for the endless immensity of the seac\n",
            "g mou want to build a ship, don't drum up people together to collect wood and don't assign them tasks and work, but rather toach them to long for the endless immensity of the seap\n",
            "g you want to build a ship, don't drum up people together te collect wood and don't dssign them tosks and work, but rather teach them to long for the endless immensity of the shac\n",
            "g you want to build a ship, don't drum up people together te collect wood and don't dssign them tasks and work, but rather teach them ta long for the endless immensity of the shac\n",
            "g you want to build a ship, don't arum up people together to collect wood and don't assign them tosks and work, but rather teach them to long for the endless immensity of the sea \n",
            "g you want to build a ship, don't drum up people together to collect wood and don't assign them tasks and work, but rather toach them to long for the endless immensity of the sea \n",
            "g you want to build a ship, don't drum up people together to collect wood and don't assign them tasks and work, but rather teach them to long for the endless immensity of the seac\n",
            "p you want to build a ship, don't drum up people together te collect wood and don't assign them tosks and work, but rather teach them to long for the endless immensity of the shal\n",
            "p you want to build a ship, don't drum up people together to collect wood and don't assign them tasks and work, but rather toach them ta long for the endless immensity of the sea.\n",
            "g you want to build a ship, don't drum up people together te collect wood and don't assign them tasks and work, but rather teach them to long for the endless immensity of the sea.\n",
            "g you want to build a ship, don't drum up people together to collect wood and don't assign them tasks and work, but rather teach them to long for the endless immensity of the sha.\n",
            "g you want to build a ship, don't drum up people together to collect wood and don't assign them tasks and work, but rather toach them to long for the endless immensity of the sea.\n",
            "g you want to build a ship, don't drum up people together to collect wood and don't assign them tosks and work, but rather teach them to long for the endless immensity of the sea.\n",
            "g you want to build a ship, don't drum up people together to collect wood and don't assign them tasks and work, but rather teach them ta long for the endless immensity of the sea.\n",
            "g you want to build a ship, don't drum up people together to collect wood and don't assign them tasks and work, but rather teach them ta long for the endless immensity of the sea.\n",
            "g you want to build a ship, don't drum up people together to collect wood and don't assign them tosks and work, but rather teach them to long for the endless immensity of the sea.\n",
            "t you want to build a ship, don't drum up people together to collect wood and don't assign them tosks and work, but rather teach them to long for the endless immensity of the sea.\n",
            "g you want to build a ship, don't drum up people together to collect wood and don't assign them tasks and work, but rather teach them ta long for the endless immensity of the sea.\n",
            "g you want to build a ship, don't drum up people together to collect wood and don't assign them tasks and work, but rather teach them ta long for the endless immensity of the sea.\n",
            "l you want to build a ship, don't drum up people together to collect wood and don't assign them tasks and work, but rather teach them ta long for the endless immensity of the sea.\n",
            "p you want to build a ship, don't drum up people together to collect wood and don't assign them tasks and work, but rather teach them to long for the endless immensity of the sea.\n",
            "p you want to build a ship, don't drum up people together to collect wood and don't assign them tosks and work, but rather teach them to long for the endless immensity of the sea.\n",
            "f you want to build a ship, don't drum up people together to collect wood and don't assign them tasks and work, but rather teach them ta long for the endless immensity of the sea.\n",
            "g you want to build a ship, don't drum up people together to collect wood and don't assign them tasks and work, but rather teach them to long for the endless immensity of the sea.\n",
            "f you want to build a ship, don't drum up people together to collect wood and don't assign them tosks and work, but rather teach them to long for the endless immensity of the sea.\n",
            "f you want to build a ship, don't drum up people together to collect wood and don't assign them tasks and work, but rather teach them to long for the endless immensity of the sea.\n",
            "f you want to build a ship, don't drum up people together to collect wood and don't assign them tasks and work, but rather teach them to long for the endless immensity of the sea.\n",
            "f you want to build a ship, don't drum up people together to collect wood and don't assign them tasks and work, but rather teach them to long for the endless immensity of the sea.\n",
            "l you want to build a ship, don't drum up people together to collect wood and don't assign them tasks and work, but rather teach them to long for the endless immensity of the sea.\n",
            "g you want to build a ship, don't drum up people together to collect wood and don't assign them tasks and work, but rather teach them ta long for the endless immensity of the sea.\n",
            "g you want to build a ship, don't drum up people together to collect wood and don't assign them tasks and work, but rather teach them to long for the endless immensity of the sea.\n",
            "l you want to build a ship, don't drum up people together to collect wood and don't assign them tosks and work, but rather teach them to long for the endless immensity of the sea.\n",
            "p you want to build a ship, don't drum up people together to collect wood and don't assign them tasks and work, but rather teach them to long for the endless immensity of thetsea.\n",
            "p you want to build a ship, don't drum up people together tegcollect wood and don't assign them tasks and work, but rather teach them th long for the endless immensity of the eoa.\n",
            "f you want to build a ship, don't drup up people together to collect wood and don't assign them tosks and work, but rather teach them to long for therendless immensity of the eea.\n",
            "t you want to build a ship, don't arum up people together to collect wood and don't tssign them tosks and work, but rather teach them to long for the ,ndless immensity of toe ,oap\n",
            "l  ou want to cuild a ship, don't arum up peo le together te collect wood asd don't assign them tasks and work, but rather teach them ta long for the endless immensity of the eha.\n",
            "g  hu want to budld a ship, don't arum up people together te collect wood and don't assign them tosks and work, but rathem aeach them to bong for the sndless immensity of the seap\n",
            "p you want to build anship, don't arum up people together te lollect wood and won't assign ther tasks and work, but rather teact ther ta long forktha sndlessiimmensity of tha sha.\n",
            "f you want to cuild a ship, don't drum up people together te collect wood and don't assign them tosks and work, but eather teach them to long for therendless immensity of thereha.\n",
            "m you wand to build a ship, don't drum up people togethem te collect wood and don't assign them tosks and work, bui rather teach them to bong for therendless immensity of therehac\n",
            "l  o  want to build a ship, don't drum up people together te colle t wood and don't dssign them tosks and dook, dui rathe  teach them to cong for the sndless immensity of the sea.\n",
            "l  ou want to build a ship, don't arum up people together te bollect wood and don't assign them tasks and work, but rather teach them ta bong for toe sndless immensity of the soa.\n"
          ],
          "name": "stdout"
        }
      ]
    }
  ]
}