{
  "nbformat": 4,
  "nbformat_minor": 0,
  "metadata": {
    "colab": {
      "name": "RNN.ipynb",
      "provenance": [],
      "collapsed_sections": [],
      "authorship_tag": "ABX9TyMuAV/k8HmofX7aN/FDnAL6",
      "include_colab_link": true
    },
    "kernelspec": {
      "name": "python3",
      "display_name": "Python 3"
    }
  },
  "cells": [
    {
      "cell_type": "markdown",
      "metadata": {
        "id": "view-in-github",
        "colab_type": "text"
      },
      "source": [
        "<a href=\"https://colab.research.google.com/github/Marshmellowon/DeepLearning_with_Pytorch/blob/master/RNN.ipynb\" target=\"_parent\"><img src=\"https://colab.research.google.com/assets/colab-badge.svg\" alt=\"Open In Colab\"/></a>"
      ]
    },
    {
      "cell_type": "markdown",
      "metadata": {
        "id": "3NafukStUn-0",
        "colab_type": "text"
      },
      "source": [
        "# RNN\n",
        "- sequential data를 잘 다루기 위해 고안됨\n",
        "\n",
        "## Sequential data\n",
        "- data의 값과 순서가 중요한 의미를 가지는 데이터\n",
        "- 'hello'라는 단어는 순서가 단어의 의미에 중요한 역할을 한다. 순서도 데이터의 일부다\n",
        "\n",
        "- 강아지 고양이 사진 분류 \n",
        "  - 모델의 분류 성능이 바뀌면 잘 된것이 아님\n",
        "\n",
        "\n",
        "## equatioin\n",
        "- h<sub>t</sub> = f(h<sub>t-1</sub>, x<sub>t</sub>)\n",
        "\n",
        "- ex:\n",
        "  h<sub>t</sub> = tanh(W<sub>h</sub>h<sub>t-1</sub> +  W<sub>x</sub>x<sub>t</sub>)\n",
        "\n",
        "## one to many\n",
        "- 하나의 이미지가 들어가고 문장이 나온다(자막)\n",
        "\n",
        "## <b>many to one</b>\n",
        "- 문장이 입력, 하나의 값(감정에 대한 레이블)이 나온다\n",
        "\n",
        "## many to many \n",
        "- 문장이 들어가면 문장이 나온다\n",
        "- 번역 텍스트에 가능\n",
        "- 문장을 끝까지 보고 출력을함\n",
        "\n",
        "## many to many2\n",
        "- 비디오, 이미지 입력, 출력값은 변화된 값? 이미지 캡셔닝\n",
        "\n",
        "> 모두를 위한 딥러닝 1 김성훈 교수\n",
        "\n",
        "\n",
        "# RNN Pytorch basics\n",
        "\n",
        "```python \n",
        "rnn = torch.nn.RNN(input_size, hidden_size)\n",
        "outputs, _status = rnn(input_data)\n",
        "```\n",
        "\n",
        "## hello\n",
        "\n",
        "- one-hot encoding\n",
        "- hello를 벡터로 변경, input_size = 4\n",
        "- word embeding 사용 가능\n",
        "\n",
        "### Hidden state\n",
        "- hidden_size = 2\n",
        "- output size == hidden size\n",
        "\n",
        "### Sequence Length\n",
        "- input data만 잘 만들어주면 된다.\n",
        "\n",
        "### batch Size\n",
        "- 여러개의 데이터를 하나로 묶어서 학습 가능\n",
        "- batch를 모델에 전달 "
      ]
    },
    {
      "cell_type": "code",
      "metadata": {
        "id": "7hvuoaF7a8kL",
        "colab_type": "code",
        "colab": {}
      },
      "source": [
        "import torch\n",
        "import numpy as np"
      ],
      "execution_count": 1,
      "outputs": []
    },
    {
      "cell_type": "code",
      "metadata": {
        "id": "N5U8JBa6bAiu",
        "colab_type": "code",
        "colab": {}
      },
      "source": [
        "input_size = 4\n",
        "hidden_size = 2"
      ],
      "execution_count": 2,
      "outputs": []
    },
    {
      "cell_type": "code",
      "metadata": {
        "id": "4f7C2uV5bE2r",
        "colab_type": "code",
        "colab": {}
      },
      "source": [
        "h = [1,0,0,0]\n",
        "e = [0,1,0,0]\n",
        "l = [0,0,1,0]\n",
        "o = [0,0,0,1]\n",
        "input_data_np = np.array([[h,e,l,l,o],\n",
        "                          [e,o,l,l,l,],\n",
        "                          [l,l,e,e,l]], dtype=np.float32)"
      ],
      "execution_count": 3,
      "outputs": []
    },
    {
      "cell_type": "code",
      "metadata": {
        "id": "S6J5XybQbfIU",
        "colab_type": "code",
        "colab": {}
      },
      "source": [
        "input_data = torch.Tensor(input_data_np)\n",
        "\n",
        "rnn = torch.nn.RNN(input_size, hidden_size)\n",
        "outputs, _status = rnn(input_data)"
      ],
      "execution_count": 4,
      "outputs": []
    }
  ]
}